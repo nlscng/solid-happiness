{
 "cells": [
  {
   "cell_type": "markdown",
   "metadata": {},
   "source": [
    "### Softmax and Cross Entropy "
   ]
  },
  {
   "cell_type": "markdown",
   "metadata": {},
   "source": [
    "#### Let's practice building softmax from scratch!"
   ]
  },
  {
   "cell_type": "markdown",
   "metadata": {},
   "source": [
    "And starts with numpy."
   ]
  },
  {
   "cell_type": "code",
   "execution_count": 1,
   "metadata": {},
   "outputs": [
    {
     "name": "stdout",
     "output_type": "stream",
     "text": [
      "softmax numpy: [0.65900114 0.24243297 0.09856589]\n"
     ]
    }
   ],
   "source": [
    "import torch\n",
    "import torch.nn as nn\n",
    "import numpy as np\n",
    "\n",
    "def softmax(x):\n",
    "    return np.exp(x) / np.sum(np.exp(x), axis=0)\n",
    "\n",
    "x = np.array([2.0, 1.0, 0.1])\n",
    "output = softmax(x)\n",
    "print('softmax numpy:' , output)"
   ]
  },
  {
   "cell_type": "markdown",
   "metadata": {},
   "source": [
    "#### Now let's call built-in oftmax with pytorch."
   ]
  },
  {
   "cell_type": "markdown",
   "metadata": {},
   "source": [
    "It's pretty much the same."
   ]
  },
  {
   "cell_type": "code",
   "execution_count": 2,
   "metadata": {},
   "outputs": [
    {
     "name": "stdout",
     "output_type": "stream",
     "text": [
      "pytorch built in softmax: tensor([0.6590, 0.2424, 0.0986])\n"
     ]
    }
   ],
   "source": [
    "x = torch.tensor([2.0, 1.0, 0.1])\n",
    "output = torch.softmax(x, dim=0)\n",
    "print('pytorch built in softmax:', output)"
   ]
  },
  {
   "cell_type": "markdown",
   "metadata": {},
   "source": [
    "#### Now let's see how to handle cross entropy. "
   ]
  },
  {
   "cell_type": "markdown",
   "metadata": {},
   "source": [
    "And starts with numpy, build it ourselves too.\n",
    "Cross entropy: - 1/n * sum(truth_distribution * log(prediction_distribution))"
   ]
  },
  {
   "cell_type": "code",
   "execution_count": 6,
   "metadata": {},
   "outputs": [
    {
     "name": "stdout",
     "output_type": "stream",
     "text": [
      "Loss 1 numpy: 0.3567\n",
      "Loss 2 numpy: 2.3026\n"
     ]
    }
   ],
   "source": [
    "import torch\n",
    "import torch.nn as nn\n",
    "import numpy as np\n",
    "\n",
    "def cross_entropy(actual, predicted):\n",
    "    loss = -np.sum(actual * np.log(predicted))\n",
    "    return loss # /float(predicted.shape[0]) ## we skip the 'average' part because it doesn't impact optimization, probably\n",
    "\n",
    "# y must be one-hot encoded. For example\n",
    "# if class 0: [1, 0, 0]\n",
    "# if class 1: [0, 1, 0]\n",
    "# if class 2: [0, 2, 0]\n",
    "Y = np.array([1, 0, 0])\n",
    "\n",
    "# y_pred comes in the form of probabilities\n",
    "Y_pred_good = np.array([0.7, 0.2, 0.1])\n",
    "Y_pred_bad = np.array([0.1, 0.3, 0.6])\n",
    "loss_good = cross_entropy(Y, Y_pred_good)\n",
    "loss_bad = cross_entropy(Y, Y_pred_bad)\n",
    "print(f'Loss 1 numpy: {loss_good:.4f}')\n",
    "print(f'Loss 2 numpy: {loss_bad:.4f}')\n"
   ]
  },
  {
   "cell_type": "markdown",
   "metadata": {},
   "source": [
    "### Again, let's now do this with pytorch."
   ]
  },
  {
   "cell_type": "markdown",
   "metadata": {},
   "source": [
    "*Note* Pytorch built-in cross entropy function **nn.CrossEntropyLoss()** handles the usual softmax layer already, and the input needs to be raw logit values, not one-hot encoded values. So if we use it, we don't one-hot, and we don't softmax, let pytorch do it.\n",
    "\n",
    "nn.CrossEntropyLoss() is really nn.LogSoftmax + nn.NLLLoss (negative log likelyhood loss)\n",
    "\n",
    "**No One-Hot and No Softmax layer if we use pytorch Cross Entropy**"
   ]
  },
  {
   "cell_type": "code",
   "execution_count": 11,
   "metadata": {},
   "outputs": [
    {
     "name": "stdout",
     "output_type": "stream",
     "text": [
      "loss good 0.4170299470424652\n",
      "loss bad 1.840616226196289\n",
      "good predition: tensor([0])\n",
      "bad prediction: tensor([1])\n"
     ]
    }
   ],
   "source": [
    "import torch\n",
    "import torch.nn\n",
    "import numpy as np\n",
    "\n",
    "loss = nn.CrossEntropyLoss()\n",
    "\n",
    "# We just have one sample for now, and 3 possible labels\n",
    "Y = torch.tensor([0])\n",
    "\n",
    "# output should be nsamples x nclasses = 1 * 3\n",
    "Y_pred_good = torch.tensor([[2.0, 1.0, 0.1]])\n",
    "Y_pred_bad = torch.tensor([[0.5, 2.0, 0.3]])\n",
    "\n",
    "l1 = loss(Y_pred_good, Y)\n",
    "l2 = loss(Y_pred_bad, Y)\n",
    "\n",
    "print('loss good', l1.item())\n",
    "print('loss bad', l2.item())\n",
    "\n",
    "_, pred1 = torch.max(Y_pred_good, 1)\n",
    "_, pred2 = torch.max(Y_pred_bad, 1)\n",
    "\n",
    "print('good predition:', pred1)\n",
    "print('bad prediction:', pred2)"
   ]
  },
  {
   "cell_type": "code",
   "execution_count": 11,
   "metadata": {},
   "outputs": [
    {
     "name": "stdout",
     "output_type": "stream",
     "text": [
      "loss good 0.4170299470424652\n",
      "loss bad 1.840616226196289\n",
      "good predition: tensor([0])\n",
      "bad prediction: tensor([1])\n"
     ]
    }
   ],
   "source": [
    "import torch\n",
    "import torch.nn\n",
    "import numpy as np\n",
    "\n",
    "loss = nn.CrossEntropyLoss()\n",
    "\n",
    "# We just have one sample for now, and 3 possible labels\n",
    "Y = torch.tensor([0])\n",
    "\n",
    "# output should be nsamples x nclasses = 1 * 3\n",
    "Y_pred_good = torch.tensor([[2.0, 1.0, 0.1]])\n",
    "Y_pred_bad = torch.tensor([[0.5, 2.0, 0.3]])\n",
    "\n",
    "l1 = loss(Y_pred_good, Y)\n",
    "l2 = loss(Y_pred_bad, Y)\n",
    "\n",
    "print('loss good', l1.item())\n",
    "print('loss bad', l2.item())\n",
    "\n",
    "_, pred1 = torch.max(Y_pred_good, 1)\n",
    "_, pred2 = torch.max(Y_pred_bad, 1)\n",
    "\n",
    "print('good predition:', pred1)\n",
    "print('bad prediction:', pred2)"
   ]
  },
  {
   "cell_type": "markdown",
   "metadata": {},
   "source": [
    "Let's beef it up, let's handle three samples instead of one with pytorch. It's very simple."
   ]
  },
  {
   "cell_type": "code",
   "execution_count": 13,
   "metadata": {},
   "outputs": [
    {
     "name": "stdout",
     "output_type": "stream",
     "text": [
      "loss good 0.3018244206905365\n",
      "loss bad 1.4430197477340698\n",
      "good predition: tensor([2, 0, 1])\n",
      "bad prediction: tensor([0, 1, 1])\n"
     ]
    }
   ],
   "source": [
    "import torch\n",
    "import torch.nn\n",
    "import numpy as np\n",
    "\n",
    "loss = nn.CrossEntropyLoss()\n",
    "\n",
    "# We just have one sample for now, and 3 possible labels\n",
    "Y = torch.tensor([2, 0, 1])\n",
    "\n",
    "# output should be nsamples x nclasses = 1 * 3\n",
    "Y_pred_good = torch.tensor([[0.1, 1.0, 2.1], [2.0, 1.0, 0.1], [0.1, 3.0, 0.1]])\n",
    "Y_pred_bad = torch.tensor([[2.1, 1.0, 0.1], [0.5, 2.0, 0.3],[0.1, 3.0, 0.1]])\n",
    "\n",
    "l1 = loss(Y_pred_good, Y)\n",
    "l2 = loss(Y_pred_bad, Y)\n",
    "\n",
    "print('loss good', l1.item())\n",
    "print('loss bad', l2.item())\n",
    "\n",
    "_, pred1 = torch.max(Y_pred_good, 1)\n",
    "_, pred2 = torch.max(Y_pred_bad, 1)\n",
    "\n",
    "print('good predition:', pred1)\n",
    "print('bad prediction:', pred2)"
   ]
  },
  {
   "cell_type": "markdown",
   "metadata": {},
   "source": [
    "### Now let's put all these together, in a multi-class classification problem."
   ]
  },
  {
   "cell_type": "code",
   "execution_count": 21,
   "metadata": {},
   "outputs": [],
   "source": [
    "import torch\n",
    "import torch.nn\n",
    "\n",
    "class NNMultiClassification(nn.Module):\n",
    "    def __init__(self, input_size, hidden_size, num_classes):\n",
    "        super(NNMultiClassification, self).__init__()\n",
    "        self.linear1 = nn.Linear(input_size, hidden_size)\n",
    "        self.relu = nn.ReLU()\n",
    "        self.linear2 = nn.Linear(hidden_size, num_classes)\n",
    "        \n",
    "    def forward(self, x):\n",
    "        \n",
    "        # Note we don't explicitly do any one-hot encoding\n",
    "        \n",
    "        out = self.linear1(x)\n",
    "        out = self.relu(out)\n",
    "        out = self.linear2(out)\n",
    "        \n",
    "        # Note we dont have softmax layer here at the very end\n",
    "        \n",
    "        return out\n",
    "    \n",
    "model = NNMultiClassification(input_size=28*28, hidden_size = 5, num_classes=3)\n",
    "criterion = nn.CrossEntropyLoss() ## remember this applies softmax for us"
   ]
  },
  {
   "cell_type": "markdown",
   "metadata": {},
   "source": [
    "### We can easily turn this multi-class classification into a binary classification problem"
   ]
  },
  {
   "cell_type": "markdown",
   "metadata": {},
   "source": [
    "Like if we want to tell if a picture is a cat. All we have to do is modify the final linear layer to output size of 1, and use a sigmoid function to turn it into a single probability value, which we can say yes if greater than 0.5, so on.\n",
    "\n",
    "Note we have to **explicitly** add the sigmoid layer here, unlike in mulit-classification with cross entropy loss, having pytorch doing softmax for us.\n",
    "\n",
    "And we can use **nn.BCELoss()** for the binary classification loss function.\n",
    "\n"
   ]
  },
  {
   "cell_type": "code",
   "execution_count": 22,
   "metadata": {},
   "outputs": [],
   "source": [
    "import torch\n",
    "import torch.nn\n",
    "\n",
    "class NNBinaryClassification(nn.Module):\n",
    "    def __init__(self, input_size, hidden_size, num_classes):\n",
    "        super(NNBinaryClassification, self).__init__()\n",
    "        self.linear1 = nn.Linear(input_size, hidden_size)\n",
    "        self.relu = nn.ReLU()\n",
    "        self.linear2 = nn.Linear(hidden_size, 1) # Note the output size is now set to 1\n",
    "        \n",
    "    def forward(self, x):\n",
    "        \n",
    "        # Note we don't explicitly do any one-hot encoding\n",
    "        \n",
    "        out = self.linear1(x)\n",
    "        out = self.relu(out)\n",
    "        out = self.linear2(out)\n",
    "        \n",
    "        # Note we have to explicitly build our sigmoid layer\n",
    "        out = torch.sigmoid(out)\n",
    "        \n",
    "        return out\n",
    "    \n",
    "model = NNBinaryClassification(input_size=28*28, hidden_size = 5, num_classes=3)\n",
    "criterion = nn.BCELoss()"
   ]
  }
 ],
 "metadata": {
  "kernelspec": {
   "display_name": "Python 3",
   "language": "python",
   "name": "python3"
  },
  "language_info": {
   "codemirror_mode": {
    "name": "ipython",
    "version": 3
   },
   "file_extension": ".py",
   "mimetype": "text/x-python",
   "name": "python",
   "nbconvert_exporter": "python",
   "pygments_lexer": "ipython3",
   "version": "3.8.5"
  }
 },
 "nbformat": 4,
 "nbformat_minor": 4
}
