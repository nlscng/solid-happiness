{
 "cells": [
  {
   "cell_type": "markdown",
   "metadata": {},
   "source": [
    "#### Dataset and Dataloaders\n",
    "*epoch* = 1 forward and backward pass of all training samples  \n",
    "****batch_size**** = number of training samples in one forward and backward pass  \n",
    "*number of iteration* = number of passes, each pass using *batch_size* number of samples  \n",
    "e.g 100 samples, batch size = 20 -> 100/20 = 5 iterations for 1 epoch"
   ]
  },
  {
   "cell_type": "code",
   "execution_count": 3,
   "metadata": {},
   "outputs": [],
   "source": [
    "import torch\n",
    "import torchvision\n",
    "from torch.utils.data import Dataset, DataLoader\n",
    "import numpy as np\n",
    "import math"
   ]
  },
  {
   "cell_type": "code",
   "execution_count": 7,
   "metadata": {},
   "outputs": [],
   "source": [
    "class WineDataset(Dataset):\n",
    "    def __init__(self):\n",
    "        # data loading\n",
    "        xy = np.loadtxt('./data/wine/wine.txt', delimiter=',', dtype=np.float32, skiprows=1)\n",
    "        self.x = torch.from_numpy(xy[:, 1:])\n",
    "        self.y = torch.from_numpy(xy[:, [0]]) # of the shape of (n_samples, 1)\n",
    "        self.n_samples = xy.shape[0]\n",
    "        \n",
    "    def __getitem__(self, index):\n",
    "        # allow indexing, like dataset[0]\n",
    "        return self.x[index], self.y[index]\n",
    "        \n",
    "    def __len__(self):\n",
    "        # len\n",
    "        return self.n_samples"
   ]
  },
  {
   "cell_type": "code",
   "execution_count": 8,
   "metadata": {},
   "outputs": [
    {
     "data": {
      "text/plain": [
       "(tensor([1.4230e+01, 1.7100e+00, 2.4300e+00, 1.5600e+01, 1.2700e+02, 2.8000e+00,\n",
       "         3.0600e+00, 2.8000e-01, 2.2900e+00, 5.6400e+00, 1.0400e+00, 3.9200e+00,\n",
       "         1.0650e+03]),\n",
       " tensor([1.]))"
      ]
     },
     "execution_count": 8,
     "metadata": {},
     "output_type": "execute_result"
    }
   ],
   "source": [
    "dataset = WineDataset()\n",
    "first_data = dataset[0]\n",
    "features, labels = first_data\n",
    "features, labels"
   ]
  },
  {
   "cell_type": "markdown",
   "metadata": {},
   "source": [
    "Create DataLoader with DataSet"
   ]
  },
  {
   "cell_type": "code",
   "execution_count": 14,
   "metadata": {},
   "outputs": [],
   "source": [
    "dataloader = DataLoader(dataset=dataset, batch_size = 4, shuffle = True, num_workers=2)"
   ]
  },
  {
   "cell_type": "markdown",
   "metadata": {},
   "source": [
    "Apparently DataLoader is also an iterable"
   ]
  },
  {
   "cell_type": "code",
   "execution_count": 16,
   "metadata": {},
   "outputs": [],
   "source": [
    "?iter"
   ]
  },
  {
   "cell_type": "code",
   "execution_count": 18,
   "metadata": {},
   "outputs": [
    {
     "data": {
      "text/plain": [
       "(tensor([[1.4100e+01, 2.1600e+00, 2.3000e+00, 1.8000e+01, 1.0500e+02, 2.9500e+00,\n",
       "          3.3200e+00, 2.2000e-01, 2.3800e+00, 5.7500e+00, 1.2500e+00, 3.1700e+00,\n",
       "          1.5100e+03],\n",
       "         [1.3410e+01, 3.8400e+00, 2.1200e+00, 1.8800e+01, 9.0000e+01, 2.4500e+00,\n",
       "          2.6800e+00, 2.7000e-01, 1.4800e+00, 4.2800e+00, 9.1000e-01, 3.0000e+00,\n",
       "          1.0350e+03],\n",
       "         [1.1840e+01, 8.9000e-01, 2.5800e+00, 1.8000e+01, 9.4000e+01, 2.2000e+00,\n",
       "          2.2100e+00, 2.2000e-01, 2.3500e+00, 3.0500e+00, 7.9000e-01, 3.0800e+00,\n",
       "          5.2000e+02],\n",
       "         [1.3080e+01, 3.9000e+00, 2.3600e+00, 2.1500e+01, 1.1300e+02, 1.4100e+00,\n",
       "          1.3900e+00, 3.4000e-01, 1.1400e+00, 9.4000e+00, 5.7000e-01, 1.3300e+00,\n",
       "          5.5000e+02]]),\n",
       " tensor([[1.],\n",
       "         [1.],\n",
       "         [2.],\n",
       "         [3.]]))"
      ]
     },
     "execution_count": 18,
     "metadata": {},
     "output_type": "execute_result"
    }
   ],
   "source": [
    "data_iter = iter(dataloader)\n",
    "data = data_iter.next()\n",
    "features, labels = data\n",
    "features, labels"
   ]
  },
  {
   "cell_type": "code",
   "execution_count": 25,
   "metadata": {},
   "outputs": [
    {
     "data": {
      "text/plain": [
       "(178, 45)"
      ]
     },
     "execution_count": 25,
     "metadata": {},
     "output_type": "execute_result"
    }
   ],
   "source": [
    "# dummy training loop, with data loader\n",
    "num_epoch = 2\n",
    "total_samples = len(dataset)\n",
    "batch_size = 4\n",
    "n_iters = math.ceil(total_samples/batch_size)\n",
    "total_samples, n_iters"
   ]
  },
  {
   "cell_type": "code",
   "execution_count": 26,
   "metadata": {},
   "outputs": [
    {
     "name": "stdout",
     "output_type": "stream",
     "text": [
      "epoch 1/2, step 5/45, inputs shape torch.Size([4, 13])\n",
      "epoch 1/2, step 10/45, inputs shape torch.Size([4, 13])\n",
      "epoch 1/2, step 15/45, inputs shape torch.Size([4, 13])\n",
      "epoch 1/2, step 20/45, inputs shape torch.Size([4, 13])\n",
      "epoch 1/2, step 25/45, inputs shape torch.Size([4, 13])\n",
      "epoch 1/2, step 30/45, inputs shape torch.Size([4, 13])\n",
      "epoch 1/2, step 35/45, inputs shape torch.Size([4, 13])\n",
      "epoch 1/2, step 40/45, inputs shape torch.Size([4, 13])\n",
      "epoch 1/2, step 45/45, inputs shape torch.Size([2, 13])\n",
      "epoch 2/2, step 5/45, inputs shape torch.Size([4, 13])\n",
      "epoch 2/2, step 10/45, inputs shape torch.Size([4, 13])\n",
      "epoch 2/2, step 15/45, inputs shape torch.Size([4, 13])\n",
      "epoch 2/2, step 20/45, inputs shape torch.Size([4, 13])\n",
      "epoch 2/2, step 25/45, inputs shape torch.Size([4, 13])\n",
      "epoch 2/2, step 30/45, inputs shape torch.Size([4, 13])\n",
      "epoch 2/2, step 35/45, inputs shape torch.Size([4, 13])\n",
      "epoch 2/2, step 40/45, inputs shape torch.Size([4, 13])\n",
      "epoch 2/2, step 45/45, inputs shape torch.Size([2, 13])\n"
     ]
    }
   ],
   "source": [
    "for epoch in range(num_epoch):\n",
    "    for i, (inputs, labels) in enumerate(dataloader):\n",
    "        # dummpy training loop, so we just log things\n",
    "        if (i + 1) % 5 == 0:\n",
    "            print(f'epoch {epoch+1}/{num_epoch}, step {i+1}/{n_iters}, inputs shape {inputs.shape}')"
   ]
  },
  {
   "cell_type": "markdown",
   "metadata": {},
   "source": [
    "Note at the end of an epoch, the batch may not be a full batch."
   ]
  }
 ],
 "metadata": {
  "kernelspec": {
   "display_name": "Python 3",
   "language": "python",
   "name": "python3"
  },
  "language_info": {
   "codemirror_mode": {
    "name": "ipython",
    "version": 3
   },
   "file_extension": ".py",
   "mimetype": "text/x-python",
   "name": "python",
   "nbconvert_exporter": "python",
   "pygments_lexer": "ipython3",
   "version": "3.8.5"
  }
 },
 "nbformat": 4,
 "nbformat_minor": 4
}
