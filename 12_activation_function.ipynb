{
 "cells": [
  {
   "cell_type": "markdown",
   "metadata": {},
   "source": [
    "#### Activation Functions\n",
    "Basic activation functions:  \n",
    "1. Sigmoid - usually the last layer of logistic regression or binary classification problem\n",
    "2. TanH - basically a scaled sigmoid, values between -1 to 1  \n",
    "3. ReLu - most popular function, f(x) = max(0, x)  \n",
    "4. Leaky ReLu - slightly modified and improved ReLu. ReLu has segment of 0 gradients, so sometimes weights won't be updated. Leaky ReLu f(x) is same as ReLu when x >= 0, but when x < 0, f(x) = c * x, where is a small constant"
   ]
  },
  {
   "cell_type": "markdown",
   "metadata": {},
   "source": [
    "#### One way to use them is to declare these activation functions as layers."
   ]
  },
  {
   "cell_type": "markdown",
   "metadata": {},
   "source": [
    "*Note* Sometimes some activations are only available through the Functional module, such as the Leaky ReLu."
   ]
  },
  {
   "cell_type": "code",
   "execution_count": 7,
   "metadata": {},
   "outputs": [],
   "source": [
    "import torch\n",
    "import torch.nn as nn\n",
    "import torch.nn.functional as F\n",
    "\n",
    "## We can declare layers first, then use them in forward passes\n",
    "\n",
    "class NeuralNet(nn.Module):\n",
    "    def __init__(self, input_size, hidden_size, num_classes):\n",
    "        super(NeuralNet, self).__init__()\n",
    "        self.linear1 = nn.Linear(input_size, hidden_size)\n",
    "        ## ReLu is available through nn\n",
    "        self.relu = nn.ReLU()\n",
    "        self.linear2 = nn.Linear(hidden_size, num_classes)\n",
    "        # Sigmoid is available through nn as well\n",
    "        self.sigmoid = nn.Sigmoid()\n",
    "        \n",
    "        ## These are available too from nn module\n",
    "        #nn.Softmax()\n",
    "        #nn.Tanh()\n",
    "        #nn.LeakyReLU()\n",
    "        \n",
    "    def forward(self, x):\n",
    "        \n",
    "        out = self.linear1(x)\n",
    "        out = self.relu(out)\n",
    "        out = self.linear2(out)\n",
    "        \n",
    "        # Note we dont have softmax layer here at the very end\n",
    "        \n",
    "        return out"
   ]
  },
  {
   "cell_type": "markdown",
   "metadata": {},
   "source": [
    "#### The other way is to use them directly as a function calls."
   ]
  },
  {
   "cell_type": "markdown",
   "metadata": {},
   "source": [
    "*Note* Sometimes some activations are only available through the Functional module, such as the Leaky ReLu."
   ]
  },
  {
   "cell_type": "code",
   "execution_count": 4,
   "metadata": {},
   "outputs": [],
   "source": [
    "import torch\n",
    "import torch.nn as nn\n",
    "import torch.nn.functional as F\n",
    "\n",
    "## Or we can skip declaration, use the activation funtion directly in forward pass\n",
    "\n",
    "class NeuralNet(nn.Module):\n",
    "    def __init__(self, input_size, hidden_size, num_classes):\n",
    "        super(NeuralNet, self).__init__()\n",
    "        self.linear1 = nn.Linear(input_size, hidden_size)\n",
    "        self.linear2 = nn.Linear(hidden_size, num_classes)\n",
    "        \n",
    "    def forward(self, x):\n",
    "\n",
    "        out = self.linear1(x)\n",
    "        ## directly call as a function\n",
    "        out = torch.relu(out)\n",
    "        out = self.linear2(out)\n",
    "        out = torch.sigmoid(out)\n",
    "        \n",
    "        ## these are available directly as function too\n",
    "        #torch.softmax()\n",
    "        #torch.tanh()\n",
    "        ## but not Leaky ReLu; it's available through F moudle\n",
    "        #F.leaky_relu()\n",
    "        \n",
    "        return out"
   ]
  }
 ],
 "metadata": {
  "kernelspec": {
   "display_name": "Python 3",
   "language": "python",
   "name": "python3"
  },
  "language_info": {
   "codemirror_mode": {
    "name": "ipython",
    "version": 3
   },
   "file_extension": ".py",
   "mimetype": "text/x-python",
   "name": "python",
   "nbconvert_exporter": "python",
   "pygments_lexer": "ipython3",
   "version": "3.8.5"
  }
 },
 "nbformat": 4,
 "nbformat_minor": 4
}
