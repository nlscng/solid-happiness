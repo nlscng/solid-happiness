{
 "cells": [
  {
   "cell_type": "markdown",
   "metadata": {},
   "source": [
    "#### Simple Feed-Forward Neural Net\n",
    "### Let's put everything together and build a NN to recognize MNIST dataset\n",
    "That is, recognizing hand-written digits from 0 to 9"
   ]
  },
  {
   "cell_type": "code",
   "execution_count": 36,
   "metadata": {},
   "outputs": [],
   "source": [
    "# MNIST\n",
    "# DataLoader, Transformation\n",
    "# Multilayer Neural Net, activation functions\n",
    "# Loss and Optimizer\n",
    "# Traning Loop (batch training)\n",
    "# Model evaluation using accuracy (not the best but it works here for demo)\n",
    "# GPU support, and CPU fallack\n",
    "\n",
    "import torch\n",
    "import torch.nn as nn\n",
    "import torchvision # for datasets\n",
    "import torchvision.transforms as transforms\n",
    "import matplotlib.pyplot as plt\n",
    "\n",
    "# device config\n",
    "device = torch.device('cuda' if torch.cuda.is_available() else 'cpu')\n",
    "\n",
    "# hyper params\n",
    "input_size = 784 # 28*28 images\n",
    "hidden_size = 100 # num of nodes in one hidden layer\n",
    "num_classes = 10 # 0~9\n",
    "num_epochs = 5 # num of times we train through the entire dataset\n",
    "batch_size = 100\n",
    "learning_rate = 0.001\n",
    "\n",
    "# MNIST\n",
    "train_dataset = torchvision.datasets.MNIST(root='./data/', train=True, transform=transforms.ToTensor(), download=True)\n",
    "\n",
    "test_dataset = torchvision.datasets.MNIST(root='./data/', train=False, transform=transforms.ToTensor(), download=False)\n",
    "\n",
    "train_loader = torch.utils.data.DataLoader(dataset=train_dataset, batch_size=batch_size, shuffle=True)\n",
    "\n",
    "test_loader = torch.utils.data.DataLoader(dataset=test_dataset, batch_size=batch_size, shuffle=False)"
   ]
  },
  {
   "cell_type": "markdown",
   "metadata": {},
   "source": [
    "### Now let's see some data samples before building the net"
   ]
  },
  {
   "cell_type": "code",
   "execution_count": 37,
   "metadata": {},
   "outputs": [
    {
     "data": {
      "text/plain": [
       "(torch.Size([100, 1, 28, 28]), torch.Size([100]))"
      ]
     },
     "execution_count": 37,
     "metadata": {},
     "output_type": "execute_result"
    }
   ],
   "source": [
    "examples = iter(train_loader)\n",
    "samples, labels = examples.next()\n",
    "samples.shape, labels.shape # (num of sample in batch, num channel of image, width/height, height, width), (num samples)"
   ]
  },
  {
   "cell_type": "code",
   "execution_count": 38,
   "metadata": {},
   "outputs": [
    {
     "data": {
      "image/png": "[encoded data removed]",
      "text/plain": [
       "<Figure size 432x288 with 6 Axes>"
      ]
     },
     "metadata": {
      "needs_background": "light"
     },
     "output_type": "display_data"
    }
   ],
   "source": [
    "for i in range(6):\n",
    "    plt.subplot(2, 3, i+1)\n",
    "    plt.imshow(samples[i][0], cmap='gray')"
   ]
  },
  {
   "cell_type": "markdown",
   "metadata": {},
   "source": [
    "### Build the neural net"
   ]
  },
  {
   "cell_type": "code",
   "execution_count": 39,
   "metadata": {},
   "outputs": [],
   "source": [
    "class NeuralNet(nn.Module):\n",
    "    def __init__(self, input_size, hidden_size, num_classes):\n",
    "        super(NeuralNet, self).__init__()\n",
    "        self.l1 = nn.Linear(input_size, hidden_size)\n",
    "        self.relu = nn.ReLU()\n",
    "        self.l2 = nn.Linear(hidden_size, num_classes)\n",
    "        \n",
    "    def forward(self, x):\n",
    "        out = self.l1(x)\n",
    "        out = self.relu(out)\n",
    "        out = self.l2(out)\n",
    "        # no softmax here because we are going to use cross entropy, and pytorch cross entropy function takes\n",
    "        # care of softmax for us\n",
    "        return out"
   ]
  },
  {
   "cell_type": "code",
   "execution_count": 40,
   "metadata": {},
   "outputs": [
    {
     "name": "stdout",
     "output_type": "stream",
     "text": [
      "epoch 1 / 5, step 100/600, loss = 0.4456\n",
      "epoch 1 / 5, step 200/600, loss = 0.2541\n",
      "epoch 1 / 5, step 300/600, loss = 0.3288\n",
      "epoch 1 / 5, step 400/600, loss = 0.3623\n",
      "epoch 1 / 5, step 500/600, loss = 0.2666\n",
      "epoch 1 / 5, step 600/600, loss = 0.2354\n",
      "epoch 2 / 5, step 100/600, loss = 0.1693\n",
      "epoch 2 / 5, step 200/600, loss = 0.0910\n",
      "epoch 2 / 5, step 300/600, loss = 0.1668\n",
      "epoch 2 / 5, step 400/600, loss = 0.1453\n",
      "epoch 2 / 5, step 500/600, loss = 0.1112\n",
      "epoch 2 / 5, step 600/600, loss = 0.1276\n",
      "epoch 3 / 5, step 100/600, loss = 0.1419\n",
      "epoch 3 / 5, step 200/600, loss = 0.0955\n",
      "epoch 3 / 5, step 300/600, loss = 0.1763\n",
      "epoch 3 / 5, step 400/600, loss = 0.1571\n",
      "epoch 3 / 5, step 500/600, loss = 0.1248\n",
      "epoch 3 / 5, step 600/600, loss = 0.2511\n",
      "epoch 4 / 5, step 100/600, loss = 0.1200\n",
      "epoch 4 / 5, step 200/600, loss = 0.0954\n",
      "epoch 4 / 5, step 300/600, loss = 0.1471\n",
      "epoch 4 / 5, step 400/600, loss = 0.0844\n",
      "epoch 4 / 5, step 500/600, loss = 0.1051\n",
      "epoch 4 / 5, step 600/600, loss = 0.0814\n",
      "epoch 5 / 5, step 100/600, loss = 0.0748\n",
      "epoch 5 / 5, step 200/600, loss = 0.0873\n",
      "epoch 5 / 5, step 300/600, loss = 0.1196\n",
      "epoch 5 / 5, step 400/600, loss = 0.0695\n",
      "epoch 5 / 5, step 500/600, loss = 0.1067\n",
      "epoch 5 / 5, step 600/600, loss = 0.1612\n",
      "acc: 97.03\n"
     ]
    }
   ],
   "source": [
    "# define model, like a function\n",
    "model = NeuralNet(input_size, hidden_size, num_classes).to(device) # remember to keep result on same device\n",
    "\n",
    "# loss and optimizer\n",
    "criterion = nn.CrossEntropyLoss()  # this does softmax for us\n",
    "optimizer = torch.optim.Adam(model.parameters(), lr=learning_rate)\n",
    "\n",
    "# training loop\n",
    "n_total_steps = len(train_loader)\n",
    "\n",
    "for epoch in range(num_epochs):\n",
    "    for i, (images, labels) in enumerate(train_loader):\n",
    "        # shape is (100, 1, 28, 28) atm\n",
    "        # but input to our nn first layer is 100, 784, so we need to reshape them\n",
    "        images = images.reshape(-1, 28*28).to(device)\n",
    "        labels = labels.to(device)\n",
    "        \n",
    "        # forward pass\n",
    "        outputs = model(images)\n",
    "        loss = criterion(outputs, labels)\n",
    "        \n",
    "        # backward pass\n",
    "        optimizer.zero_grad()   # remember to empty gradients from last time\n",
    "        loss.backward()\n",
    "        optimizer.step()\n",
    "        \n",
    "        if (i+1) % 100 == 0:\n",
    "            print(f'epoch {epoch+1} / {num_epochs}, step {i+1}/{n_total_steps}, loss = {loss.item():.4f}')\n",
    "            \n",
    "# testing loop\n",
    "with torch.no_grad():\n",
    "    n_correct = 0\n",
    "    n_samples = 0\n",
    "    for images, labels in test_loader:\n",
    "        # again, we have to reshape images to fit the nn\n",
    "        images = images.reshape(-1, 28*28).to(device)\n",
    "        labels = labels.to(device)\n",
    "        \n",
    "        outputs = model(images)\n",
    "        \n",
    "        # tracking\n",
    "        _, predictions = torch.max(outputs, 1)  # max returns (value, index), and we care about the index\n",
    "        n_samples += labels.shape[0]\n",
    "        n_correct += (predictions == labels).sum().item()\n",
    "        \n",
    "    acc = 100.0 * n_correct / n_samples\n",
    "    print(f'acc: {acc}')"
   ]
  },
  {
   "cell_type": "code",
   "execution_count": null,
   "metadata": {},
   "outputs": [],
   "source": []
  }
 ],
 "metadata": {
  "kernelspec": {
   "display_name": "Python 3",
   "language": "python",
   "name": "python3"
  },
  "language_info": {
   "codemirror_mode": {
    "name": "ipython",
    "version": 3
   },
   "file_extension": ".py",
   "mimetype": "text/x-python",
   "name": "python",
   "nbconvert_exporter": "python",
   "pygments_lexer": "ipython3",
   "version": "3.8.5"
  }
 },
 "nbformat": 4,
 "nbformat_minor": 4
}
